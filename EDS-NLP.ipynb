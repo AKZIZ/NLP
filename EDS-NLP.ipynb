{
 "cells": [
  {
   "cell_type": "code",
   "execution_count": 2,
   "id": "10de2874-c1e1-4aa8-aacf-3c60b55b65c9",
   "metadata": {},
   "outputs": [],
   "source": [
    "import edsnlp, edsnlp.pipes as eds"
   ]
  },
  {
   "cell_type": "code",
   "execution_count": 1,
   "id": "8da70e3c-e359-468f-a3b3-641b10f430d1",
   "metadata": {},
   "outputs": [
    {
     "name": "stdout",
     "output_type": "stream",
     "text": [
      "<class 'list'>\n"
     ]
    }
   ],
   "source": [
    "import re\n",
    "\n",
    "# Texte à analyser\n",
    "texte = \"Le patient présente un myelome et son père présente une neoplasie. la tumeur n'est pas neoplasique\"\n",
    "\n",
    "# Regex\n",
    "regex = r'(?:tum(?:oral|eur)|cance(?:r|rog[e|è]ne)|maligne|n[e|é]oplas(?:ie|ique)|sarcome|ad[e|é]nocarcinome|lymphome|leuc[e|é]mie|my[e|é]lome|m[e|é]lanome|m[e|é]tastas(?:e|tatique)|carcino(?:me|g[e|è]ne)|oncog[e|è]ne|masse)'\n",
    "\n",
    "\n",
    "\n",
    "# Recherche des correspondances dans le texte en utilisant la fonction regex_ameliore\n",
    "correspondances = re.findall(regex, texte, re.IGNORECASE)\n",
    "\n",
    "# Affichage des correspondances\n",
    "print(type(correspondances))\n"
   ]
  },
  {
   "cell_type": "code",
   "execution_count": 4,
   "id": "7aef22c4-9c73-400f-b51f-c7bcff53b3aa",
   "metadata": {},
   "outputs": [
    {
     "data": {
      "text/plain": [
       "['myelome', 'neoplasie', 'tumeur', 'neoplasique']"
      ]
     },
     "execution_count": 4,
     "metadata": {},
     "output_type": "execute_result"
    }
   ],
   "source": [
    "correspondances"
   ]
  },
  {
   "cell_type": "code",
   "execution_count": 28,
   "id": "3e6843e6-e639-4fbe-986b-cb07f826179d",
   "metadata": {},
   "outputs": [
    {
     "data": {
      "text/plain": [
       "False"
      ]
     },
     "execution_count": 28,
     "metadata": {},
     "output_type": "execute_result"
    }
   ],
   "source": [
    "\n",
    "nlp = edsnlp.blank(\"eds\")  # \n",
    "\n",
    "terms = dict(\n",
    "    cancer=correspondances,  # \n",
    ")\n",
    "\n",
    "# Sentencizer component, needed for negation detection\n",
    "nlp.add_pipe(eds.sentences())  # \n",
    "# Matcher component\n",
    "nlp.add_pipe(eds.matcher(terms=terms))  # \n",
    "# Negation detection\n",
    "nlp.add_pipe(eds.negation())\n",
    "\n",
    "# Process your text in one call !\n",
    "doc = nlp(texte)\n",
    "\n",
    "doc.ents  # \n",
    "# Out: (covid,)\n",
    "\n",
    "doc.ents[0]._.negation  # \n",
    "# Out: True\n"
   ]
  },
  {
   "cell_type": "code",
   "execution_count": 6,
   "id": "af525b55",
   "metadata": {},
   "outputs": [
    {
     "name": "stdout",
     "output_type": "stream",
     "text": [
      "['neoplasie', 'neoplasique']\n"
     ]
    }
   ],
   "source": [
    "# Texte à analyser\n",
    "texte = \"Le patient présente un myelome et son père présente une neoplasie. la tumeur n'est pas neoplasique\"\n",
    "\n",
    "# Regex\n",
    "regex = r'\\b(neoplas(?:ie|ique))\\b'\n",
    "\n",
    "# Recherche des correspondances dans le texte\n",
    "correspondances = re.findall(regex, texte, re.IGNORECASE)\n",
    "\n",
    "# Affichage des correspondances\n",
    "print(correspondances)"
   ]
  },
  {
   "cell_type": "code",
   "execution_count": 9,
   "id": "2ffc057e-912d-4e95-a3b2-55bf0e26ce55",
   "metadata": {},
   "outputs": [
    {
     "name": "stdout",
     "output_type": "stream",
     "text": [
      "Requirement already satisfied: spacy in c:\\users\\rachi\\anaconda3\\lib\\site-packages (3.3.3)\n",
      "Requirement already satisfied: spacy-legacy<3.1.0,>=3.0.9 in c:\\users\\rachi\\anaconda3\\lib\\site-packages (from spacy) (3.0.11)\n",
      "Requirement already satisfied: spacy-loggers<2.0.0,>=1.0.0 in c:\\users\\rachi\\anaconda3\\lib\\site-packages (from spacy) (1.0.4)\n",
      "Requirement already satisfied: murmurhash<1.1.0,>=0.28.0 in c:\\users\\rachi\\anaconda3\\lib\\site-packages (from spacy) (1.0.7)\n",
      "Requirement already satisfied: cymem<2.1.0,>=2.0.2 in c:\\users\\rachi\\anaconda3\\lib\\site-packages (from spacy) (2.0.6)\n",
      "Requirement already satisfied: preshed<3.1.0,>=3.0.2 in c:\\users\\rachi\\anaconda3\\lib\\site-packages (from spacy) (3.0.6)\n",
      "Requirement already satisfied: thinc<8.1.0,>=8.0.14 in c:\\users\\rachi\\anaconda3\\lib\\site-packages (from spacy) (8.0.17)\n",
      "Requirement already satisfied: blis<0.8.0,>=0.4.0 in c:\\users\\rachi\\anaconda3\\lib\\site-packages (from spacy) (0.7.11)\n",
      "Requirement already satisfied: wasabi<1.1.0,>=0.9.1 in c:\\users\\rachi\\anaconda3\\lib\\site-packages (from spacy) (0.10.1)\n",
      "Requirement already satisfied: srsly<3.0.0,>=2.4.3 in c:\\users\\rachi\\anaconda3\\lib\\site-packages (from spacy) (2.4.3)\n",
      "Requirement already satisfied: catalogue<2.1.0,>=2.0.6 in c:\\users\\rachi\\anaconda3\\lib\\site-packages (from spacy) (2.0.8)\n",
      "Requirement already satisfied: typer<0.5.0,>=0.3.0 in c:\\users\\rachi\\anaconda3\\lib\\site-packages (from spacy) (0.4.2)\n",
      "Requirement already satisfied: pathy>=0.3.5 in c:\\users\\rachi\\anaconda3\\lib\\site-packages (from spacy) (0.10.1)\n",
      "Requirement already satisfied: smart-open<7.0.0,>=5.2.1 in c:\\users\\rachi\\anaconda3\\lib\\site-packages (from spacy) (5.2.1)\n",
      "Requirement already satisfied: tqdm<5.0.0,>=4.38.0 in c:\\users\\rachi\\anaconda3\\lib\\site-packages (from spacy) (4.64.0)\n",
      "Requirement already satisfied: numpy>=1.15.0 in c:\\users\\rachi\\anaconda3\\lib\\site-packages (from spacy) (1.22.4)\n",
      "Requirement already satisfied: requests<3.0.0,>=2.13.0 in c:\\users\\rachi\\anaconda3\\lib\\site-packages (from spacy) (2.27.1)\n",
      "Collecting pydantic!=1.8,!=1.8.1,<1.9.0,>=1.7.4 (from spacy)\n",
      "  Using cached pydantic-1.8.2-cp39-cp39-win_amd64.whl.metadata (103 kB)\n",
      "Requirement already satisfied: jinja2 in c:\\users\\rachi\\anaconda3\\lib\\site-packages (from spacy) (2.11.3)\n",
      "Requirement already satisfied: setuptools in c:\\users\\rachi\\anaconda3\\lib\\site-packages (from spacy) (61.2.0)\n",
      "Requirement already satisfied: packaging>=20.0 in c:\\users\\rachi\\anaconda3\\lib\\site-packages (from spacy) (21.3)\n",
      "Collecting typing-extensions<4.6.0,>=3.7.4.1 (from spacy)\n",
      "  Using cached typing_extensions-4.5.0-py3-none-any.whl.metadata (8.5 kB)\n",
      "Requirement already satisfied: langcodes<4.0.0,>=3.2.0 in c:\\users\\rachi\\anaconda3\\lib\\site-packages (from spacy) (3.3.0)\n",
      "Requirement already satisfied: pyparsing!=3.0.5,>=2.0.2 in c:\\users\\rachi\\anaconda3\\lib\\site-packages (from packaging>=20.0->spacy) (3.0.4)\n",
      "Requirement already satisfied: urllib3<1.27,>=1.21.1 in c:\\users\\rachi\\anaconda3\\lib\\site-packages (from requests<3.0.0,>=2.13.0->spacy) (1.26.9)\n",
      "Requirement already satisfied: certifi>=2017.4.17 in c:\\users\\rachi\\anaconda3\\lib\\site-packages (from requests<3.0.0,>=2.13.0->spacy) (2022.12.7)\n",
      "Requirement already satisfied: charset-normalizer~=2.0.0 in c:\\users\\rachi\\anaconda3\\lib\\site-packages (from requests<3.0.0,>=2.13.0->spacy) (2.0.4)\n",
      "Requirement already satisfied: idna<4,>=2.5 in c:\\users\\rachi\\anaconda3\\lib\\site-packages (from requests<3.0.0,>=2.13.0->spacy) (3.3)\n",
      "Requirement already satisfied: colorama in c:\\users\\rachi\\anaconda3\\lib\\site-packages (from tqdm<5.0.0,>=4.38.0->spacy) (0.4.4)\n"
     ]
    },
    {
     "name": "stderr",
     "output_type": "stream",
     "text": [
      "ERROR: Could not install packages due to an OSError: [Errno 2] No such file or directory: 'c:\\\\users\\\\rachi\\\\anaconda3\\\\lib\\\\site-packages\\\\typer-0.4.2.dist-info\\\\METADATA'\n",
      "\n"
     ]
    }
   ],
   "source": [
    "!pip install spacy"
   ]
  },
  {
   "cell_type": "code",
   "execution_count": null,
   "id": "13e8308a-e8e7-4c29-904e-cd54f58703ae",
   "metadata": {},
   "outputs": [],
   "source": []
  },
  {
   "cell_type": "code",
   "execution_count": 15,
   "id": "91baada7-ca0f-4ddf-b571-933de691a011",
   "metadata": {},
   "outputs": [
    {
     "name": "stderr",
     "output_type": "stream",
     "text": [
      "\u001b[32m2024-04-23 14:16:25.032\u001b[0m | \u001b[33m\u001b[1mWARNING \u001b[0m | \u001b[36medsnlp.pipes.qualifiers.family.family\u001b[0m:\u001b[36m__init__\u001b[0m:\u001b[36m142\u001b[0m - \u001b[33m\u001b[1mYou have requested that the pipeline use annotations provided by the `section` pipeline, but it was not set. Skipping that step.\u001b[0m\n"
     ]
    },
    {
     "name": "stdout",
     "output_type": "stream",
     "text": [
      "(myelome, neoplasie)\n",
      "False\n",
      "True\n"
     ]
    }
   ],
   "source": [
    "\n",
    "nlp = edsnlp.blank(\"eds\")  # \n",
    "\n",
    "terms = dict(\n",
    "    covid=correspondances,  # \n",
    ")\n",
    "\n",
    "# Sentencizer component, needed for negation detection\n",
    "nlp.add_pipe(eds.sentences())  # \n",
    "# Matcher component\n",
    "nlp.add_pipe(eds.matcher(terms=terms))  # \n",
    "# Negation detection\n",
    "nlp.add_pipe(eds.negation())\n",
    "\n",
    "nlp.add_pipe(eds.family())\n",
    "\n",
    "# Process your text in one call !\n",
    "doc = nlp(\"la Le patient ne présente pas de myelome et son père présente une neoplasie\")\n",
    "\n",
    "print(doc.ents)  # \n",
    "\n",
    "print(doc.ents[1]._.negation)\n",
    "\n",
    "print(doc.ents[1]._.family)\n",
    "\n"
   ]
  },
  {
   "cell_type": "code",
   "execution_count": 5,
   "id": "9e77a8a4-3f7a-4a8f-8e5c-a63af7b24230",
   "metadata": {},
   "outputs": [
    {
     "name": "stdout",
     "output_type": "stream",
     "text": [
      "Le patient n'est pas atteint de covid\n"
     ]
    }
   ],
   "source": [
    "print(doc.text)"
   ]
  },
  {
   "cell_type": "code",
   "execution_count": 8,
   "id": "563205a1-a3ed-4dcb-8847-516a83128dd9",
   "metadata": {},
   "outputs": [],
   "source": [
    "from sklearn.feature_extraction.text import CountVectorizer"
   ]
  },
  {
   "cell_type": "code",
   "execution_count": 3,
   "id": "01664cc7-4677-4055-82ea-2ed4dd100e3d",
   "metadata": {},
   "outputs": [
    {
     "data": {
      "text/plain": [
       "['myelome', 'neoplasie', 'tumeur', 'neoplasique']"
      ]
     },
     "execution_count": 3,
     "metadata": {},
     "output_type": "execute_result"
    }
   ],
   "source": [
    "import re\n",
    "\n",
    "# Texte à analyser\n",
    "texte = \"Le patient présente un myelome et son père présente une neoplasie. la tumeur n'est pas neoplasique\"\n",
    "\n",
    "# Regex\n",
    "regex = r'(?:tum(?:oral|eur)|cance(?:r|rog[e|è]ne)|maligne|n[e|é]oplas(?:ie|ique)|sarcome|ad[e|é]nocarcinome|lymphome|leuc[e|é]mie|my[e|é]lome|m[e|é]lanome|m[e|é]tastas(?:e|tatique)|carcino(?:me|g[e|è]ne)|oncog[e|è]ne|masse)'\n",
    "\n",
    "\n",
    "\n",
    "# Recherche des correspondances dans le texte en utilisant la fonction regex_ameliore\n",
    "correspondances = re.findall(regex, texte, re.IGNORECASE)\n",
    "\n",
    "# Affichage des correspondances\n",
    "correspondances\n"
   ]
  },
  {
   "cell_type": "code",
   "execution_count": 4,
   "id": "895f8b09-b25a-4d58-9ebf-f76705fde28e",
   "metadata": {},
   "outputs": [
    {
     "name": "stderr",
     "output_type": "stream",
     "text": [
      "C:\\Users\\rachi\\Downloads\\Anaconda_new\\envs\\env_nlp\\lib\\site-packages\\pydantic\\_internal\\_fields.py:160: UserWarning: Field \"model_path\" has conflict with protected namespace \"model_\".\n",
      "\n",
      "You may be able to resolve this warning by setting `model_config['protected_namespaces'] = ()`.\n",
      "  warnings.warn(\n",
      "C:\\Users\\rachi\\Downloads\\Anaconda_new\\envs\\env_nlp\\lib\\site-packages\\tqdm\\auto.py:21: TqdmWarning: IProgress not found. Please update jupyter and ipywidgets. See https://ipywidgets.readthedocs.io/en/stable/user_install.html\n",
      "  from .autonotebook import tqdm as notebook_tqdm\n"
     ]
    }
   ],
   "source": [
    "import spacy\n",
    "# Import des règles anglaises\n",
    "nlp = spacy.load('fr_core_news_sm')"
   ]
  },
  {
   "cell_type": "code",
   "execution_count": 19,
   "id": "6f8423a9-8c70-4ddd-b8d7-3e8a17c73585",
   "metadata": {},
   "outputs": [
    {
     "name": "stdout",
     "output_type": "stream",
     "text": [
      "['le', 'patient', 'présente', 'un', 'myelome', 'et', 'son', 'père', 'présente', 'un', 'neoplasie', '.', 'le', 'tumeur', 'ne', 'être', 'pas', 'neoplasiqu']\n"
     ]
    }
   ],
   "source": [
    "# Analyser le texte avec le modèle spaCy\n",
    "sent_tokens = nlp(texte)\n",
    "\n",
    "# Obtenir les lemmes des tokens\n",
    "lemmes = [token.lemma_ for token in sent_tokens]\n",
    "\n",
    "# Afficher les lemmes\n",
    "print(lemmes)"
   ]
  },
  {
   "cell_type": "code",
   "execution_count": 21,
   "id": "9e3d1a49-4ff9-4c3e-a7b4-95224bed65f0",
   "metadata": {},
   "outputs": [],
   "source": [
    "corpus = [doc.text]\n",
    "\n",
    "vectorizer2 = CountVectorizer(analyzer='word', ngram_range=(5, 5))\n",
    "X2 = vectorizer2.fit_transform(corpus)\n",
    "liste=list(vectorizer2.get_feature_names_out())"
   ]
  },
  {
   "cell_type": "code",
   "execution_count": 23,
   "id": "695219a1-58e0-479f-a84b-e1ba0f289fe0",
   "metadata": {},
   "outputs": [
    {
     "data": {
      "text/plain": [
       "\"Le patient présente un myelome et son père présente une neoplasie. la tumeur n'est pas neoplasique\""
      ]
     },
     "execution_count": 23,
     "metadata": {},
     "output_type": "execute_result"
    }
   ],
   "source": [
    "doc.text"
   ]
  },
  {
   "cell_type": "code",
   "execution_count": 5,
   "id": "76c15ecb-e823-4e36-8de3-89b54cb3c67a",
   "metadata": {},
   "outputs": [
    {
     "name": "stdout",
     "output_type": "stream",
     "text": [
      "Le det patient NOUN []\n",
      "patient nsubj présente VERB [Le]\n",
      "présente ROOT présente VERB [patient, myelome, présente, .]\n",
      "un det myelome NOUN []\n",
      "myelome obj présente VERB [un, père]\n",
      "et cc père NOUN []\n",
      "son det père NOUN []\n",
      "père conj myelome NOUN [et, son]\n",
      "présente xcomp présente VERB [neoplasie]\n",
      "une det neoplasie NOUN []\n",
      "neoplasie obj présente VERB [une]\n",
      ". punct présente VERB []\n",
      "la det tumeur NOUN []\n",
      "tumeur nsubj neoplasique ADJ [la]\n",
      "n' advmod neoplasique ADJ []\n",
      "est cop neoplasique ADJ []\n",
      "pas advmod neoplasique ADJ []\n",
      "neoplasique ROOT neoplasique ADJ [tumeur, n', est, pas]\n"
     ]
    }
   ],
   "source": [
    "doc = nlp(\"Le patient présente un myelome et son père présente une neoplasie. la tumeur n'est pas neoplasique\")\n",
    "\n",
    "for token in doc:\n",
    "    print(token.text, token.dep_, token.head.text, token.head.pos_,\n",
    "            [child for child in token.children])\n"
   ]
  },
  {
   "cell_type": "code",
   "execution_count": 6,
   "id": "50ceca80-6efb-429c-8c37-4f4b179947cc",
   "metadata": {},
   "outputs": [
    {
     "name": "stdout",
     "output_type": "stream",
     "text": [
      "| Token       | Relation   | Tête        | Partie du discours   | Enfants                     |\n",
      "|:------------|:-----------|:------------|:---------------------|:----------------------------|\n",
      "| Le          | det        | patient     | NOUN                 | []                          |\n",
      "| patient     | nsubj      | a           | VERB                 | [Le]                        |\n",
      "| a           | ROOT       | a           | VERB                 | [patient, tumeur, as, .]    |\n",
      "| une         | det        | tumeur      | NOUN                 | []                          |\n",
      "| tumeur      | obj        | a           | VERB                 | [une]                       |\n",
      "| et          | cc         | as          | VERB                 | []                          |\n",
      "| son         | det        | père        | NOUN                 | []                          |\n",
      "| père        | nsubj      | as          | VERB                 | [son]                       |\n",
      "| n'          | advmod     | as          | VERB                 | []                          |\n",
      "| as          | conj       | a           | VERB                 | [et, père, n', pas, cancer] |\n",
      "| pas         | advmod     | as          | VERB                 | []                          |\n",
      "| de          | det        | cancer      | NOUN                 | []                          |\n",
      "| cancer      | obj        | as          | VERB                 | [de]                        |\n",
      "| .           | punct      | a           | VERB                 | []                          |\n",
      "| la          | det        | tumeur      | NOUN                 | []                          |\n",
      "| tumeur      | nsubj      | neoplasique | ADJ                  | [la]                        |\n",
      "| n'          | advmod     | neoplasique | ADJ                  | []                          |\n",
      "| est         | cop        | neoplasique | ADJ                  | []                          |\n",
      "| pas         | advmod     | neoplasique | ADJ                  | []                          |\n",
      "| neoplasique | ROOT       | neoplasique | ADJ                  | [tumeur, n', est, pas]      |\n"
     ]
    }
   ],
   "source": [
    "import spacy\n",
    "from tabulate import tabulate\n",
    "\n",
    "# Charger le modèle spaCy pour le français\n",
    "nlp = spacy.load('fr_core_news_sm')\n",
    "\n",
    "# Texte à analyser\n",
    "texte = \"Le patient a une tumeur et son père n'as pas de cancer. la tumeur n'est pas neoplasique\"\n",
    "\n",
    "# Obtenir la liste des stopwords pour le français\n",
    "stop_words = spacy.lang.fr.stop_words.STOP_WORDS\n",
    "\n",
    "\n",
    "# Analyser le texte avec le modèle spaCy\n",
    "doc = nlp(texte)\n",
    "\n",
    "\n",
    "# Créer une liste de tuples pour stocker les informations de chaque token\n",
    "token_info = []\n",
    "\n",
    "# Remplir la liste avec les informations de chaque token dans le texte filtré\n",
    "for token in doc:\n",
    "    token_info.append((token.text, token.dep_, token.head.text, token.head.pos_, [child for child in token.children]))\n",
    "\n",
    "# Afficher les informations sous forme de tableau\n",
    "print(tabulate(token_info, headers=['Token', 'Relation', 'Tête', 'Partie du discours', 'Enfants'], tablefmt='pipe'))\n"
   ]
  },
  {
   "cell_type": "code",
   "execution_count": 7,
   "id": "6ad621d8-c448-456f-981c-f7744b436184",
   "metadata": {},
   "outputs": [
    {
     "name": "stdout",
     "output_type": "stream",
     "text": [
      "[[], ['Le'], ['patient', 'tumeur', 'as', '.'], [], ['une'], [], [], ['son'], [], ['et', 'père', \"n'\", 'pas', 'cancer'], [], [], ['de'], [], [], ['la'], [], [], [], ['tumeur', \"n'\", 'est', 'pas']]\n"
     ]
    }
   ],
   "source": [
    "import spacy\n",
    "\n",
    "# Initialisation du modèle spaCy pour le français\n",
    "nlp = spacy.load(\"fr_core_news_sm\")\n",
    "\n",
    "# Texte à analyser\n",
    "texte = \"Le patient a une tumeur et son père n'as pas de cancer. la tumeur n'est pas neoplasique\"\n",
    "\n",
    "# Analyser le texte avec le modèle spaCy\n",
    "doc = nlp(texte)\n",
    "\n",
    "# Liste pour stocker les enfants de chaque token\n",
    "mylist_child = []\n",
    "\n",
    "# Parcourir chaque token dans le texte\n",
    "for token in doc:\n",
    "    # Obtenir les enfants de chaque token\n",
    "    children = [child.text for child in token.children]\n",
    "    mylist_child.append(children)\n",
    "\n",
    "# Affichage de la liste des enfants de chaque token\n",
    "print(mylist_child)\n"
   ]
  },
  {
   "cell_type": "code",
   "execution_count": 8,
   "id": "18d8fe33-8b13-459b-87af-1be9be4e3f0a",
   "metadata": {},
   "outputs": [],
   "source": [
    "correspondances\n",
    "list_family=[\"pere\",\"mere\",\"soeur\",\"frère\",\"fille\",\"fils\",\"oncle\",\"tante\",\"grand-pere\",\"grand-mere\"]\n",
    "list_negation=[\"n'\",\"pas\",\"ne\"]"
   ]
  },
  {
   "cell_type": "code",
   "execution_count": 9,
   "id": "2add0b07-2fa9-49b6-8a2e-a31752e1c16a",
   "metadata": {},
   "outputs": [
    {
     "data": {
      "text/plain": [
       "['myelome', 'neoplasie', 'tumeur', 'neoplasique']"
      ]
     },
     "execution_count": 9,
     "metadata": {},
     "output_type": "execute_result"
    }
   ],
   "source": [
    "correspondances"
   ]
  },
  {
   "cell_type": "code",
   "execution_count": 25,
   "id": "1b6aba9d-7dc1-474c-97d0-c33fa4242508",
   "metadata": {},
   "outputs": [
    {
     "name": "stdout",
     "output_type": "stream",
     "text": [
      "[\"Le patient n'est pas malade.\", \"Le patient n'est pas malade.\", \"Le patient n'est pas malade.\", \"Le patient n'est pas malade.\", \"Le patient n'est pas malade.\", \"Le patient n'est pas malade.\", \"Le patient n'est pas malade.\", \"Le patient n'est pas malade.\", \"Le patient n'est pas malade.\", \"Le patient n'est pas malade.\", \"Le patient n'est pas malade.\", \"Le patient n'est pas malade.\", \"Le patient n'est pas malade.\", \"Le patient n'est pas malade.\", \"Le patient n'est pas malade.\", \"Le patient n'est pas malade.\", \"Le patient n'est pas malade.\", \"Le patient n'est pas malade.\", \"Le patient n'est pas malade.\", \"Le patient n'est pas malade.\"]\n"
     ]
    }
   ],
   "source": [
    "# Liste des termes de correspondance liés au cancer\n",
    "correspondances\n",
    "\n",
    "# Liste des termes de négation\n",
    "list_negation = [\"non\", \"pas\", \"aucun\",\"n'\",\"ne\",\"pas\"]\n",
    "\n",
    "# Liste des termes de relation familiale\n",
    "list_family = [\"pere\",\"mere\",\"soeur\",\"frère\",\"fille\",\"fils\",\"oncle\",\"tante\",\"grand-pere\",\"grand-mere\"]\n",
    "\n",
    "# Fonction pour vérifier si un mot indique si le patient est malade\n",
    "def verifier_mot(mot):\n",
    "    # Vérifier la présence de termes de correspondance\n",
    "    for term_cancer in correspondances:\n",
    "        if term_cancer in mot:\n",
    "            # Vérifier la présence de termes de relation familiale\n",
    "            for parent in list_family:\n",
    "                if parent in mot:\n",
    "                    return \"Le patient n'est pas malade.\"\n",
    "                else:\n",
    "                    # Vérifier la présence de termes de négation\n",
    "                    for neg in list_negation:\n",
    "                        if neg not in mot:\n",
    "                            return \"Le patient est malade.\"\n",
    "                        else:\n",
    "                            return \"Le patient n'est pas malade.\"\n",
    "        else:\n",
    "                    \n",
    "            return \"Le patient n'est pas malade.\"\n",
    "                                        \n",
    "\n",
    "\n",
    "# Fonction pour vérifier chaque mot dans une liste\n",
    "def verifier_liste_mots(liste_mots):\n",
    "    resultats = []\n",
    "    for mot in liste_mots:\n",
    "        resultat_mot = verifier_mot(mot)\n",
    "        resultats.append(resultat_mot)\n",
    "    return resultats\n",
    "\n",
    "# Exemple d'utilisation\n",
    "\n",
    "resultats = verifier_liste_mots(mylist_child)\n",
    "print(resultats)\n"
   ]
  },
  {
   "cell_type": "code",
   "execution_count": 21,
   "id": "8033ff7b-6d23-4764-995a-a83bd46a9acd",
   "metadata": {},
   "outputs": [
    {
     "data": {
      "text/html": [
       "<span class=\"tex2jax_ignore\"><div class=\"entities\" style=\"line-height: 2.5; direction: ltr\">Le patient a une tumeur et son père n'as pas de cancer. la tumeur n'est pas neoplasique</div></span>"
      ],
      "text/plain": [
       "<IPython.core.display.HTML object>"
      ]
     },
     "metadata": {},
     "output_type": "display_data"
    }
   ],
   "source": [
    "import spacy\n",
    "from spacy import displacy\n",
    "\n",
    "nlp = spacy.load(\"fr_core_news_sm\")\n",
    "# Texte à analyser\n",
    "texte = \"Le patient a une tumeur et son père n'as pas de cancer. la tumeur n'est pas neoplasique\"\n",
    "\n",
    "doc = nlp(texte)\n",
    "# Affichage du graphique dans le navigateur\n",
    "displacy.render(doc, style=\"ent\", jupyter=True)"
   ]
  },
  {
   "cell_type": "code",
   "execution_count": 16,
   "id": "f766799a-7387-453f-8283-b9b3a03ad024",
   "metadata": {},
   "outputs": [],
   "source": [
    "from spacy import displacy\n",
    "\n",
    "\n",
    "nlp = spacy.load(\"en_core_web_sm\")\n",
    "doc = nlp(text)\n",
    "displacy.serve(doc, style=\"ent\")"
   ]
  },
  {
   "cell_type": "code",
   "execution_count": null,
   "id": "e6f68db3-a683-4af9-bdb1-cb7f51c7017a",
   "metadata": {},
   "outputs": [],
   "source": []
  },
  {
   "cell_type": "code",
   "execution_count": 33,
   "id": "008edc89-b663-4bef-b702-46323aecf190",
   "metadata": {},
   "outputs": [
    {
     "data": {
      "text/plain": [
       "[['patient', 'ne', 'pas', 'tumeur', 'as', '.'],\n",
       " ['et', 'père', \"n'\", 'pas', 'cancer'],\n",
       " ['tumeur', \"n'\", 'est', 'pas']]"
      ]
     },
     "execution_count": 33,
     "metadata": {},
     "output_type": "execute_result"
    }
   ],
   "source": [
    "liste_neg = []\n",
    "\n",
    "for mot in liste_str:\n",
    "    if \"n'\" in mot or \"ne\" in mot or \"pas\" in mot:\n",
    "        liste_neg.append(mot)\n",
    "\n",
    "liste_neg"
   ]
  },
  {
   "cell_type": "code",
   "execution_count": 30,
   "id": "a7500757-e027-46eb-9f5a-84d9dc79ec32",
   "metadata": {},
   "outputs": [
    {
     "data": {
      "text/plain": [
       "[['patient', 'ne', 'pas', 'tumeur', 'as', '.'],\n",
       " ['patient', 'ne', 'pas', 'tumeur', 'as', '.'],\n",
       " ['et', 'père', \"n'\", 'pas', 'cancer'],\n",
       " ['et', 'père', \"n'\", 'pas', 'cancer'],\n",
       " ['tumeur', \"n'\", 'est', 'pas'],\n",
       " ['tumeur', \"n'\", 'est', 'pas']]"
      ]
     },
     "execution_count": 30,
     "metadata": {},
     "output_type": "execute_result"
    }
   ],
   "source": [
    "liste_neg"
   ]
  },
  {
   "cell_type": "code",
   "execution_count": 60,
   "id": "9ae64643-edf0-42a6-a6c1-d1834bacba8b",
   "metadata": {},
   "outputs": [
    {
     "name": "stdout",
     "output_type": "stream",
     "text": [
      "Le\n",
      "patient\n",
      "yes\n",
      "ne\n",
      "yes\n",
      "pas\n",
      "tumeur\n",
      "as\n",
      ".\n",
      "yes\n",
      "une\n",
      "son\n",
      "et\n",
      "père\n",
      "yes\n",
      "n'\n",
      "yes\n",
      "pas\n",
      "cancer\n",
      "de\n",
      "la\n",
      "tumeur\n",
      "yes\n",
      "n'\n",
      "est\n",
      "yes\n",
      "pas\n"
     ]
    }
   ],
   "source": [
    "# Initialisation de la liste pour stocker les enfants de chaque token\n",
    "children_list = []\n",
    "\n",
    "# Parcourir les tokens pour récupérer les enfants de chaque token\n",
    "for token in doc:\n",
    "    children = [child.text for child in token.children]\n",
    "    children_list.append(children)\n",
    "\n",
    "# Parcourir les listes d'enfants pour rechercher les mots de négation\n",
    "for children in children_list:\n",
    "    for neg in children:\n",
    "        for stopword in ['n\\'', 'ne', 'pas']:\n",
    "            if stopword in neg:\n",
    "                print(\"yes\")\n",
    "        print(neg)\n"
   ]
  },
  {
   "cell_type": "code",
   "execution_count": 40,
   "id": "75aabf21-b609-4251-9014-abe3397e0a9b",
   "metadata": {},
   "outputs": [
    {
     "name": "stdout",
     "output_type": "stream",
     "text": [
      "Le patient n'a pas de cancer.\n",
      "Le père n'a pas de cancer.\n"
     ]
    }
   ],
   "source": [
    "# Initialisation des variables pour suivre les informations\n",
    "patient_a_cancer = False\n",
    "pere_a_cancer = False\n",
    "neg_patient = False\n",
    "neg_pere = False\n",
    "\n",
    "# Parcourir les tokens pour rechercher les informations nécessaires\n",
    "for token in doc:\n",
    "    if token.text == \"patient\":\n",
    "        for child in token.children:\n",
    "            if child.text == \"ne\":\n",
    "                neg_patient = True\n",
    "    elif token.text == \"père\":\n",
    "        for child in token.children:\n",
    "            if child.text == \"ne\":\n",
    "                neg_pere = True\n",
    "    elif token.text == \"présente\" and token.head.text == \"patient\" and \"cancer\" in [child.text for child in token.head.children]:\n",
    "        if not neg_patient:\n",
    "            patient_a_cancer = True\n",
    "    elif token.text == \"as\" and token.head.text == \"père\" and \"cancer\" in [child.text for child in token.head.children]:\n",
    "        if not neg_pere:\n",
    "            pere_a_cancer = True\n",
    "\n",
    "# Vérifier les résultats\n",
    "if patient_a_cancer:\n",
    "    print(\"Le patient a un cancer.\")\n",
    "else:\n",
    "    print(\"Le patient n'a pas de cancer.\")\n",
    "\n",
    "if pere_a_cancer:\n",
    "    print(\"Le père a un cancer.\")\n",
    "else:\n",
    "    print(\"Le père n'a pas de cancer.\")\n"
   ]
  },
  {
   "cell_type": "code",
   "execution_count": null,
   "id": "cb1a3336-1a0f-4973-9486-dc8af9345745",
   "metadata": {},
   "outputs": [],
   "source": []
  },
  {
   "cell_type": "code",
   "execution_count": null,
   "id": "605c5d0e-46c7-4c5b-bd17-b2c48a5d0f3a",
   "metadata": {},
   "outputs": [],
   "source": []
  }
 ],
 "metadata": {
  "kernelspec": {
   "display_name": "Python 3 (ipykernel)",
   "language": "python",
   "name": "python3"
  },
  "language_info": {
   "codemirror_mode": {
    "name": "ipython",
    "version": 3
   },
   "file_extension": ".py",
   "mimetype": "text/x-python",
   "name": "python",
   "nbconvert_exporter": "python",
   "pygments_lexer": "ipython3",
   "version": "3.9.12"
  }
 },
 "nbformat": 4,
 "nbformat_minor": 5
}
